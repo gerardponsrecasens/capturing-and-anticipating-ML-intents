{
 "cells": [
  {
   "cell_type": "markdown",
   "id": "7afefb60",
   "metadata": {},
   "source": [
    "# GENERAL PyKeen PIPELINE"
   ]
  },
  {
   "cell_type": "markdown",
   "id": "a399fa74",
   "metadata": {},
   "source": [
    "### IMPORTS"
   ]
  },
  {
   "cell_type": "code",
   "execution_count": 112,
   "id": "27640791",
   "metadata": {},
   "outputs": [],
   "source": [
    "import os\n",
    "from rdflib import Graph, URIRef\n",
    "import pykeen\n",
    "from pykeen.pipeline import pipeline\n",
    "from pykeen.triples import TriplesFactory\n",
    "import torch"
   ]
  },
  {
   "cell_type": "markdown",
   "id": "64ea888a",
   "metadata": {},
   "source": [
    "### GENERATE DATASET\n",
    "\n",
    "PyKeen expects a tsv dataset, so we need to transform from the .nt file to the .txt"
   ]
  },
  {
   "cell_type": "code",
   "execution_count": 72,
   "id": "48378543",
   "metadata": {},
   "outputs": [
    {
     "name": "stderr",
     "output_type": "stream",
     "text": [
      "C:\\Users\\34656\\anaconda3\\envs\\PyKeen\\lib\\site-packages\\rdflib\\term.py:1695: UserWarning: Parsing weird boolean, '2250' does not map to True or False\n",
      "  warnings.warn(\n"
     ]
    }
   ],
   "source": [
    "input_file = os.path.join('constraintRDF.nt')\n",
    "output_file = os.path.join('input.txt')\n",
    "\n",
    "# Load the N-Triples file using rdflib\n",
    "graph = Graph()\n",
    "graph.parse(input_file, format=\"nt\")\n",
    "\n",
    "# Convert the graph to a tab-separated file\n",
    "with open(output_file, 'w') as outfile:\n",
    "    for s, p, o in graph:\n",
    "        outfile.write(f\"{s}\\t{p}\\t{o}\\n\")"
   ]
  },
  {
   "cell_type": "markdown",
   "id": "88e00633",
   "metadata": {},
   "source": [
    "We load the dataset using the **TriplesFactory** class and then we split it training and testing. PyKeen does it for us, so that no unseen entity/relationship is in the testing split"
   ]
  },
  {
   "cell_type": "code",
   "execution_count": 73,
   "id": "b2d22d7c",
   "metadata": {},
   "outputs": [
    {
     "name": "stderr",
     "output_type": "stream",
     "text": [
      "WARNING:pykeen.utils:using automatically assigned random_state=3041584229\n",
      "INFO:pykeen.triples.splitting:done splitting triples to groups of sizes [3541, 1513]\n"
     ]
    }
   ],
   "source": [
    "tf = TriplesFactory.from_path('input.txt')\n",
    "training, testing = tf.split()"
   ]
  },
  {
   "cell_type": "markdown",
   "id": "05b19d03",
   "metadata": {},
   "source": [
    "### TRAIN THE MODEL\n",
    "\n",
    "The model is trained, and a lot of the parameters (inlcuding the model, the training configuration, the optimizer...) can be modified. "
   ]
  },
  {
   "cell_type": "code",
   "execution_count": 135,
   "id": "d06c7ae0",
   "metadata": {},
   "outputs": [
    {
     "name": "stderr",
     "output_type": "stream",
     "text": [
      "WARNING:pykeen.utils:No cuda devices were available. The model runs on CPU\n",
      "INFO:pykeen.pipeline.api:Using device: None\n",
      "Training epochs on cpu: 100%|██████████| 20/20 [00:05<00:00,  3.34epoch/s, loss=0.103, prev_loss=0.104]\n",
      "INFO:pykeen.evaluation.evaluator:Evaluation took 1.07s seconds\n"
     ]
    }
   ],
   "source": [
    "# Define the knowledge graph data location\n",
    "training_data = training\n",
    "testing_data = testing\n",
    "\n",
    "# Define the model configuration\n",
    "model = 'TransE'\n",
    "model_kwargs = {'embedding_dim': 50}\n",
    "\n",
    "# Define the training configuration\n",
    "training_kwargs = {'num_epochs': 20, 'use_tqdm_batch':False}\n",
    "\n",
    "# Define the optimizer configuration\n",
    "optimizer_kwargs = {'lr':0.001}\n",
    "\n",
    "# Define the evaluator configuration\n",
    "evaluation_kwargs= {'batch_size':32,'use_tqdm':False}\n",
    "\n",
    "\n",
    "# Define the pipeline\n",
    "pipe = pipeline(\n",
    "    model = model,\n",
    "    training = training_data,\n",
    "    testing = testing_data,\n",
    "    training_loop = 'slcwa',\n",
    "    model_kwargs = model_kwargs,\n",
    "    training_kwargs = training_kwargs,\n",
    "    optimizer_kwargs = optimizer_kwargs,\n",
    "    evaluation_kwargs = evaluation_kwargs,\n",
    "    negative_sampler = 'bernoulli',\n",
    "    random_seed=1998\n",
    ")"
   ]
  },
  {
   "cell_type": "markdown",
   "id": "60dd9e76",
   "metadata": {},
   "source": [
    "### RESULTS"
   ]
  },
  {
   "cell_type": "code",
   "execution_count": 101,
   "id": "826133fa",
   "metadata": {},
   "outputs": [],
   "source": [
    "test_results = pipe.metric_results.to_df()"
   ]
  },
  {
   "cell_type": "code",
   "execution_count": 99,
   "id": "b0cb44b4",
   "metadata": {},
   "outputs": [
    {
     "data": {
      "text/plain": [
       "<Axes: title={'center': 'Losses Plot'}, xlabel='Epoch', ylabel='marginranking Loss'>"
      ]
     },
     "execution_count": 99,
     "metadata": {},
     "output_type": "execute_result"
    },
    {
     "data": {
      "image/png": "[encoded data removed]",
      "text/plain": [
       "<Figure size 640x480 with 1 Axes>"
      ]
     },
     "metadata": {},
     "output_type": "display_data"
    }
   ],
   "source": [
    "pipe.plot_losses()"
   ]
  },
  {
   "cell_type": "markdown",
   "id": "65ef1013",
   "metadata": {},
   "source": [
    "Including in the pipe *evaluation_relation_whitelist = {'CtD', 'CpD'}*, the evaluations will only be done over the triples that contain such relationships. "
   ]
  },
  {
   "cell_type": "markdown",
   "id": "f3d834b8",
   "metadata": {},
   "source": [
    "### STORE RESULTS"
   ]
  },
  {
   "cell_type": "markdown",
   "id": "be66b01b",
   "metadata": {},
   "source": [
    "The best way may be to store all the pipeline, so we can access all the results. However, by now we need:\n",
    "* The losses, for intramodel comparisson.\n",
    "* The model_results for intra/intermodel comparissons.\n",
    "\n",
    "\n",
    "We need to keep track also of the parameters that led to the results, namely:\n",
    "* Name of the model.\n",
    "* Embedding dimension.\n",
    "* Learning rate?."
   ]
  },
  {
   "cell_type": "code",
   "execution_count": 114,
   "id": "893f3ccf",
   "metadata": {},
   "outputs": [],
   "source": [
    "parameters = {'model':'TransE','emb_dim':50}\n",
    "torch.save([parameters,test_results],'./results/results1.pkl')"
   ]
  },
  {
   "cell_type": "markdown",
   "id": "d6f8a696",
   "metadata": {},
   "source": [
    "### LOAD PREVIOUS RESULTS"
   ]
  },
  {
   "cell_type": "code",
   "execution_count": 115,
   "id": "4bc7ae35",
   "metadata": {},
   "outputs": [],
   "source": [
    "p, t = torch.load('./results/results1.pkl')"
   ]
  }
 ],
 "metadata": {
  "kernelspec": {
   "display_name": "Python 3 (ipykernel)",
   "language": "python",
   "name": "python3"
  },
  "language_info": {
   "codemirror_mode": {
    "name": "ipython",
    "version": 3
   },
   "file_extension": ".py",
   "mimetype": "text/x-python",
   "name": "python",
   "nbconvert_exporter": "python",
   "pygments_lexer": "ipython3",
   "version": "3.9.16"
  }
 },
 "nbformat": 4,
 "nbformat_minor": 5
}
